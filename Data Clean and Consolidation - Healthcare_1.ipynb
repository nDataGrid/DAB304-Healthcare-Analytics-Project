{
 "cells": [
  {
   "cell_type": "code",
   "execution_count": 1,
   "id": "1fe25c9d-f724-4b8a-9f8d-a1f203b60a8e",
   "metadata": {},
   "outputs": [],
   "source": [
    "import pandas as pd\n",
    "import numpy as np\n",
    "from pathlib import Path"
   ]
  },
  {
   "cell_type": "code",
   "execution_count": 2,
   "id": "5f92908b-4956-44e9-8e35-e4ab7cbdcc77",
   "metadata": {},
   "outputs": [],
   "source": [
    "def acc_transform(acc):\n",
    "    col = acc.columns\n",
    "    for i in col:\n",
    "        acc[i] = acc[i].apply(lambda x: abs(float(x)))\n",
    "    acc['acc_value'] = round(np.sqrt((acc[col[0]])**2 + (acc[col[1]])**2 + (acc[col[2]])*2),2)\n",
    "    l = []\n",
    "    final_list = []\n",
    "    counter = 0\n",
    "    for i in acc['acc_value'][1:,]:\n",
    "        counter += 1\n",
    "        l.append(i)\n",
    "        if counter == 32:\n",
    "            final_list.append(float(np.sum(l)/len(l)))\n",
    "            l = []\n",
    "            counter = 0\n",
    "    # return pd.DataFrame(final_list, columns = ['acc'])  \n",
    "    return final_list"
   ]
  },
  {
   "cell_type": "code",
   "execution_count": 3,
   "id": "1059333c-9d9a-4574-ac24-c89529d23ba9",
   "metadata": {},
   "outputs": [],
   "source": [
    "def bvp_transform(bvp):\n",
    "    col = bvp.columns\n",
    "    l = []\n",
    "    final_list = []\n",
    "    counter = 0\n",
    "    for i in bvp[col[0]][1:,]:\n",
    "        counter += 1\n",
    "        l.append(i)\n",
    "        if counter == 64:\n",
    "            final_list.append(float(np.sum(l)/len(l)))\n",
    "            l = []\n",
    "            counter = 0\n",
    "    # return pd.DataFrame(final_list, columns = ['bvp'])  \n",
    "    return final_list"
   ]
  },
  {
   "cell_type": "code",
   "execution_count": 4,
   "id": "269876b7-42d7-4582-b036-0dd48e24386d",
   "metadata": {},
   "outputs": [],
   "source": [
    "def eda_transform(eda):\n",
    "    col = eda.columns\n",
    "    l = []\n",
    "    final_list = []\n",
    "    counter = 0\n",
    "    for i in eda[col[0]][1:,]:\n",
    "        counter += 1\n",
    "        l.append(i)\n",
    "        if counter == 4:\n",
    "            final_list.append(float(np.sum(l)/len(l)))\n",
    "            l = []\n",
    "            counter = 0\n",
    "    # return pd.DataFrame(final_list, columns = ['eda'])  \n",
    "    return final_list"
   ]
  },
  {
   "cell_type": "code",
   "execution_count": 5,
   "id": "9eb8942b-8426-42aa-aafb-944939d13a71",
   "metadata": {},
   "outputs": [],
   "source": [
    "def hr_transform(hr):\n",
    "    hr.rename(columns ={hr.columns[0]:'hr'}, inplace = True)\n",
    "    final_list = []\n",
    "    for i in hr['hr']:\n",
    "        final_list.append(i)\n",
    "    return final_list"
   ]
  },
  {
   "cell_type": "code",
   "execution_count": 6,
   "id": "f5f0c525-99c7-47c8-9cc9-5de28959019d",
   "metadata": {},
   "outputs": [],
   "source": [
    "def ibi_transform(ibi):\n",
    "    ibi.drop(ibi.columns[0], axis=1, inplace=True)\n",
    "    ibi.rename(columns ={ibi.columns[0]:'ibi'}, inplace = True)\n",
    "    final_list = []\n",
    "    for i in ibi['ibi']:\n",
    "        final_list.append(i)\n",
    "    return final_list\n",
    "    # return ibi.loc[1:,]"
   ]
  },
  {
   "cell_type": "code",
   "execution_count": 7,
   "id": "b4371599-f98b-403e-884d-24135f09246f",
   "metadata": {},
   "outputs": [],
   "source": [
    "def temp_transform(temp):\n",
    "    col = temp.columns\n",
    "    l = []\n",
    "    final_list = []\n",
    "    counter = 0\n",
    "    for i in temp[col[0]][1:,]:\n",
    "        counter += 1\n",
    "        l.append(i)\n",
    "        if counter == 4:\n",
    "            final_list.append(float(np.sum(l)/len(l)))\n",
    "            l = []\n",
    "            counter = 0\n",
    "    # return pd.DataFrame(final_list, columns = ['temp'])  \n",
    "    return final_list    "
   ]
  },
  {
   "cell_type": "code",
   "execution_count": 8,
   "id": "55f74fc2-0670-470b-a00f-36939133df20",
   "metadata": {},
   "outputs": [],
   "source": [
    "def dict_to_df(df):\n",
    "    df = pd.DataFrame.from_dict(df, orient='index')\n",
    "    return df.transpose()"
   ]
  },
  {
   "cell_type": "code",
   "execution_count": 9,
   "id": "c66d7396-3c32-410e-bf92-7f5efd5651c5",
   "metadata": {},
   "outputs": [],
   "source": [
    "def empty_col_fill(df, exam_type, Student_number):\n",
    "    df['Exam'] = [exam_type for i in range(df.shape[0])]\n",
    "    df['Student'] = [Student_number for i in range(df.shape[0])]\n",
    "    return df"
   ]
  },
  {
   "cell_type": "code",
   "execution_count": 10,
   "id": "625a5e94-93ef-4504-90f9-203ad458e9bc",
   "metadata": {},
   "outputs": [],
   "source": [
    "s1_mid1 = s2_mid1 = s3_mid1 = s4_mid1 = s5_mid1 = s6_mid1 = s7_mid1 = s8_mid1 = s9_mid1 = s10_mid1 = s1_mid2 = s2_mid2 =s3_mid2 = s4_mid2 = s5_mid2  = s6_mid2 = s7_mid2 = s8_mid2 = s9_mid2 = s10_mid2 = s1_final = s2_final = s3_final = s4_final = s5_final = s6_final = s7_final = s8_final = s9_final = s10_final = {'Exam' : [], 'Student' : [], 'ACC' : [], 'TEMP' : [], 'HR' : [], 'IBI' : [], 'EDA' : [], 'BVP' : [], 'Marks' : []}"
   ]
  },
  {
   "cell_type": "code",
   "execution_count": 11,
   "id": "c34d0a60-f3f0-4a3c-85ae-e95d08f05871",
   "metadata": {
    "scrolled": true,
    "tags": []
   },
   "outputs": [],
   "source": [
    "vital_list = ['ACC.csv', 'BVP.csv', 'EDA.csv', 'HR.csv', 'IBI.csv', 'TEMP.csv']\n",
    "def data_sorting(path, student_no, student_mid1, student_mid2, student_final):\n",
    "    for exam in path.iterdir():\n",
    "        #mid2, mid1, final\n",
    "        if str(exam) != str(path)+\"/.DS_Store\":\n",
    "\n",
    "            for vital in exam.iterdir():\n",
    "                #acc, eda, bvp, .....\n",
    "\n",
    "                vital_name = str(vital).split('/')[-1]\n",
    "\n",
    "                if vital_name in vital_list:\n",
    "                    vital_df = pd.read_csv(vital)\n",
    "                    if str(exam).split('/')[-1].lower() == 'midterm 1':\n",
    "                        if vital_name.lower() == 'acc.csv':\n",
    "                            student_mid1['ACC'] = acc_transform(vital_df)\n",
    "                        elif vital_name.lower() == 'hr.csv':\n",
    "                            student_mid1['HR'] = hr_transform(vital_df)\n",
    "                        elif vital_name.lower() == 'ibi.csv':\n",
    "                            student_mid1['IBI'] = ibi_transform(vital_df)\n",
    "                        elif vital_name.lower() == 'eda.csv':\n",
    "                            student_mid1['EDA'] = eda_transform(vital_df)\n",
    "                        elif vital_name.lower() == 'bvp.csv':\n",
    "                            student_mid1['BVP'] = bvp_transform(vital_df)\n",
    "                        elif vital_name.lower() == 'temp.csv':\n",
    "                            student_mid1['TEMP'] = temp_transform(vital_df)\n",
    "                    elif str(exam).split('/')[-1].lower() == 'midterm 2':\n",
    "                        if vital_name.lower() == 'acc.csv':\n",
    "                            student_mid2['ACC'] = acc_transform(vital_df)\n",
    "                        elif vital_name.lower() == 'hr.csv':\n",
    "                            student_mid2['HR'] = hr_transform(vital_df)\n",
    "                        elif vital_name.lower() == 'ibi.csv':\n",
    "                            student_mid2['IBI'] = ibi_transform(vital_df)\n",
    "                        elif vital_name.lower() == 'eda.csv':\n",
    "                            student_mid2['EDA'] = eda_transform(vital_df)\n",
    "                        elif vital_name.lower() == 'bvp.csv':\n",
    "                            student_mid2['BVP'] = bvp_transform(vital_df)\n",
    "                        elif vital_name.lower() == 'temp.csv':\n",
    "                            student_mid2['TEMP'] = temp_transform(vital_df)\n",
    "                    else:\n",
    "                        if vital_name.lower() == 'acc.csv':\n",
    "                            student_final['ACC'] = acc_transform(vital_df)\n",
    "                        elif vital_name.lower() == 'hr.csv':\n",
    "                            student_final['HR'] = hr_transform(vital_df)\n",
    "                        elif vital_name.lower() == 'ibi.csv':\n",
    "                            student_final['IBI'] = ibi_transform(vital_df)\n",
    "                        elif vital_name.lower() == 'eda.csv':\n",
    "                            student_final['EDA'] = eda_transform(vital_df)\n",
    "                        elif vital_name.lower() == 'bvp.csv':\n",
    "                            student_final['BVP'] = bvp_transform(vital_df)\n",
    "                        elif vital_name.lower() == 'temp.csv':\n",
    "                            student_final['TEMP'] = temp_transform(vital_df)\n",
    "    df_mid1 = dict_to_df(student_mid1)\n",
    "    df_mid2 = dict_to_df(student_mid2)\n",
    "    df_final = dict_to_df(student_final)\n",
    "    st_mid1 = empty_col_fill(df_mid1, 'Midterm 1', student_no)\n",
    "    st_mid2 = empty_col_fill(df_mid2, 'Midterm 2', student_no)\n",
    "    st_final = empty_col_fill(df_final, 'Final', student_no)\n",
    "    return pd.concat([st_mid1, st_mid2, st_final])"
   ]
  },
  {
   "cell_type": "code",
   "execution_count": 12,
   "id": "22eb2e31-af33-4ccd-95f4-cfdf8489916d",
   "metadata": {},
   "outputs": [],
   "source": [
    "s1 = data_sorting(Path('/Users/rohityadav/College-Data/Lokesh-Healthcare/Data/S1'), 'S1', s1_mid1, s1_mid2, s1_final)\n",
    "s2 = data_sorting(Path('/Users/rohityadav/College-Data/Lokesh-Healthcare/Data/S2'), 'S2', s2_mid1, s2_mid2, s2_final)\n",
    "s3 = data_sorting(Path('/Users/rohityadav/College-Data/Lokesh-Healthcare/Data/S3'), 'S3', s3_mid1, s3_mid2, s3_final)\n",
    "s4 = data_sorting(Path('/Users/rohityadav/College-Data/Lokesh-Healthcare/Data/S4'), 'S4', s4_mid1, s4_mid2, s4_final)\n",
    "s5 = data_sorting(Path('/Users/rohityadav/College-Data/Lokesh-Healthcare/Data/S5'), 'S5', s5_mid1, s5_mid2, s5_final)\n",
    "s6 = data_sorting(Path('/Users/rohityadav/College-Data/Lokesh-Healthcare/Data/S6'), 'S6', s6_mid1, s6_mid2, s6_final)\n",
    "s7 = data_sorting(Path('/Users/rohityadav/College-Data/Lokesh-Healthcare/Data/S7'), 'S7', s7_mid1, s7_mid2, s7_final)\n",
    "s8 = data_sorting(Path('/Users/rohityadav/College-Data/Lokesh-Healthcare/Data/S8'), 'S8', s8_mid1, s8_mid2, s8_final)\n",
    "s9 = data_sorting(Path('/Users/rohityadav/College-Data/Lokesh-Healthcare/Data/S9'), 'S9', s9_mid1, s9_mid2, s9_final)\n",
    "s10 = data_sorting(Path('/Users/rohityadav/College-Data/Lokesh-Healthcare/Data/S10'), 'S10', s10_mid1, s10_mid2, s10_final)"
   ]
  },
  {
   "cell_type": "code",
   "execution_count": 14,
   "id": "3d657e11-e262-4725-ba18-ed7778694766",
   "metadata": {},
   "outputs": [],
   "source": [
    "final_df = pd.concat([s1,s2,s3,s4,s5,s6,s7,s8,s9,s10])"
   ]
  },
  {
   "cell_type": "code",
   "execution_count": 17,
   "id": "ff54993f-fb39-4f7d-abf1-9dc0647cd814",
   "metadata": {},
   "outputs": [],
   "source": [
    "final_df.to_csv('/Users/rohityadav/College-Data/Lokesh-Healthcare/final_df.csv')"
   ]
  },
  {
   "cell_type": "code",
   "execution_count": null,
   "id": "9b176486-28f9-435e-b0f8-b3c0d0915fa2",
   "metadata": {},
   "outputs": [],
   "source": []
  },
  {
   "cell_type": "code",
   "execution_count": null,
   "id": "993e17c5-bb1e-4275-a56d-37260555e05d",
   "metadata": {},
   "outputs": [],
   "source": []
  },
  {
   "cell_type": "code",
   "execution_count": null,
   "id": "98b6f348-94cd-4e28-8ea1-99adefa6954a",
   "metadata": {},
   "outputs": [],
   "source": []
  },
  {
   "cell_type": "code",
   "execution_count": null,
   "id": "3b126c28-22bf-4cdd-8a39-42b42d5d67fb",
   "metadata": {},
   "outputs": [],
   "source": []
  },
  {
   "cell_type": "code",
   "execution_count": null,
   "id": "553fb28c-093d-444c-9e7a-d4af4812f737",
   "metadata": {},
   "outputs": [],
   "source": []
  },
  {
   "cell_type": "code",
   "execution_count": null,
   "id": "e3decb06-9376-4fd2-9cc1-48cc8ff3de4f",
   "metadata": {},
   "outputs": [],
   "source": []
  },
  {
   "cell_type": "code",
   "execution_count": null,
   "id": "b5d2d218-abbc-4b37-baf7-15cdb8b08c89",
   "metadata": {},
   "outputs": [],
   "source": []
  },
  {
   "cell_type": "code",
   "execution_count": null,
   "id": "a425f6ef-c6e8-4252-9f69-01987509d553",
   "metadata": {},
   "outputs": [],
   "source": []
  },
  {
   "cell_type": "code",
   "execution_count": null,
   "id": "f08830ec-533e-40e7-94fb-03e6ab00a318",
   "metadata": {},
   "outputs": [],
   "source": []
  },
  {
   "cell_type": "code",
   "execution_count": null,
   "id": "a6ba8b70-5f4f-47a7-97cd-b2f076933088",
   "metadata": {},
   "outputs": [],
   "source": []
  },
  {
   "cell_type": "code",
   "execution_count": null,
   "id": "9fce64b0-8014-4010-b5f7-3bb1603c8df9",
   "metadata": {},
   "outputs": [],
   "source": []
  },
  {
   "cell_type": "code",
   "execution_count": null,
   "id": "7222ee59-3cc1-4181-98cb-9ec325818ef9",
   "metadata": {},
   "outputs": [],
   "source": []
  },
  {
   "cell_type": "code",
   "execution_count": null,
   "id": "ed8b637a-c5bb-4f34-a2d8-cd2873b47e2f",
   "metadata": {},
   "outputs": [],
   "source": []
  },
  {
   "cell_type": "code",
   "execution_count": null,
   "id": "357fbfe2-b2e2-4624-a92e-1b161c26a12e",
   "metadata": {},
   "outputs": [],
   "source": []
  }
 ],
 "metadata": {
  "kernelspec": {
   "display_name": "Python 3 (ipykernel)",
   "language": "python",
   "name": "python3"
  },
  "language_info": {
   "codemirror_mode": {
    "name": "ipython",
    "version": 3
   },
   "file_extension": ".py",
   "mimetype": "text/x-python",
   "name": "python",
   "nbconvert_exporter": "python",
   "pygments_lexer": "ipython3",
   "version": "3.9.13"
  }
 },
 "nbformat": 4,
 "nbformat_minor": 5
}

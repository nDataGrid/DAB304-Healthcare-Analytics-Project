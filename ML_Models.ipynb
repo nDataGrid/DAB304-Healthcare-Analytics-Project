{
  "cells": [
    {
      "cell_type": "code",
      "execution_count": null,
      "id": "09ea9b25",
      "metadata": {
        "id": "09ea9b25"
      },
      "outputs": [],
      "source": [
        "import pandas as pd\n",
        "import numpy as np\n",
        "#from datetime import datetime, timedelta\n",
        "\n",
        "\n",
        "from sklearn.ensemble import RandomForestClassifier\n",
        "from sklearn.metrics import accuracy_score,confusion_matrix\n",
        "from sklearn.model_selection import train_test_split\n",
        "from sklearn.ensemble import RandomForestRegressor\n",
        "from sklearn.impute import SimpleImputer\n",
        "from google.colab import drive"
      ]
    },
    {
      "cell_type": "code",
      "execution_count": null,
      "id": "0e2f110e",
      "metadata": {
        "colab": {
          "base_uri": "https://localhost:8080/"
        },
        "id": "0e2f110e",
        "outputId": "10f13528-df70-4cfc-b040-4008e987dd7f"
      },
      "outputs": [
        {
          "output_type": "stream",
          "name": "stdout",
          "text": [
            "Mounted at /content/drive\n"
          ]
        }
      ],
      "source": [
        "drive.mount('/content/drive')"
      ]
    },
    {
      "cell_type": "code",
      "execution_count": null,
      "id": "07232f0e",
      "metadata": {
        "colab": {
          "base_uri": "https://localhost:8080/",
          "height": 206
        },
        "id": "07232f0e",
        "outputId": "293c5fe5-25a9-42e9-81d5-8eb886c1f33e"
      },
      "outputs": [
        {
          "output_type": "execute_result",
          "data": {
            "text/plain": [
              "   s.no       Exam Student       ACC   TEMP      HR       IBI       EDA  \\\n",
              "0     0  Midterm 1      S1  65.12875  21.89    1.00  0.468771  0.011852   \n",
              "1     1  Midterm 1      S1  65.16000  21.89  116.00  0.500023  0.023064   \n",
              "2     2  Midterm 1      S1  65.12875  21.91   82.50  0.375017  0.023704   \n",
              "3     3  Midterm 1      S1  65.09750  21.91   96.33  0.437520  0.023384   \n",
              "4     4  Midterm 1      S1  65.12875  21.89   86.25  0.468771  0.023704   \n",
              "\n",
              "         BVP  Marks  \n",
              "0  20.111563     78  \n",
              "1 -14.726250     78  \n",
              "2 -33.097031     78  \n",
              "3  -4.302500     78  \n",
              "4  31.872969     78  "
            ],
            "text/html": [
              "\n",
              "  <div id=\"df-946a7d83-bfa1-46cc-b04c-e17f31ef6736\">\n",
              "    <div class=\"colab-df-container\">\n",
              "      <div>\n",
              "<style scoped>\n",
              "    .dataframe tbody tr th:only-of-type {\n",
              "        vertical-align: middle;\n",
              "    }\n",
              "\n",
              "    .dataframe tbody tr th {\n",
              "        vertical-align: top;\n",
              "    }\n",
              "\n",
              "    .dataframe thead th {\n",
              "        text-align: right;\n",
              "    }\n",
              "</style>\n",
              "<table border=\"1\" class=\"dataframe\">\n",
              "  <thead>\n",
              "    <tr style=\"text-align: right;\">\n",
              "      <th></th>\n",
              "      <th>s.no</th>\n",
              "      <th>Exam</th>\n",
              "      <th>Student</th>\n",
              "      <th>ACC</th>\n",
              "      <th>TEMP</th>\n",
              "      <th>HR</th>\n",
              "      <th>IBI</th>\n",
              "      <th>EDA</th>\n",
              "      <th>BVP</th>\n",
              "      <th>Marks</th>\n",
              "    </tr>\n",
              "  </thead>\n",
              "  <tbody>\n",
              "    <tr>\n",
              "      <th>0</th>\n",
              "      <td>0</td>\n",
              "      <td>Midterm 1</td>\n",
              "      <td>S1</td>\n",
              "      <td>65.12875</td>\n",
              "      <td>21.89</td>\n",
              "      <td>1.00</td>\n",
              "      <td>0.468771</td>\n",
              "      <td>0.011852</td>\n",
              "      <td>20.111563</td>\n",
              "      <td>78</td>\n",
              "    </tr>\n",
              "    <tr>\n",
              "      <th>1</th>\n",
              "      <td>1</td>\n",
              "      <td>Midterm 1</td>\n",
              "      <td>S1</td>\n",
              "      <td>65.16000</td>\n",
              "      <td>21.89</td>\n",
              "      <td>116.00</td>\n",
              "      <td>0.500023</td>\n",
              "      <td>0.023064</td>\n",
              "      <td>-14.726250</td>\n",
              "      <td>78</td>\n",
              "    </tr>\n",
              "    <tr>\n",
              "      <th>2</th>\n",
              "      <td>2</td>\n",
              "      <td>Midterm 1</td>\n",
              "      <td>S1</td>\n",
              "      <td>65.12875</td>\n",
              "      <td>21.91</td>\n",
              "      <td>82.50</td>\n",
              "      <td>0.375017</td>\n",
              "      <td>0.023704</td>\n",
              "      <td>-33.097031</td>\n",
              "      <td>78</td>\n",
              "    </tr>\n",
              "    <tr>\n",
              "      <th>3</th>\n",
              "      <td>3</td>\n",
              "      <td>Midterm 1</td>\n",
              "      <td>S1</td>\n",
              "      <td>65.09750</td>\n",
              "      <td>21.91</td>\n",
              "      <td>96.33</td>\n",
              "      <td>0.437520</td>\n",
              "      <td>0.023384</td>\n",
              "      <td>-4.302500</td>\n",
              "      <td>78</td>\n",
              "    </tr>\n",
              "    <tr>\n",
              "      <th>4</th>\n",
              "      <td>4</td>\n",
              "      <td>Midterm 1</td>\n",
              "      <td>S1</td>\n",
              "      <td>65.12875</td>\n",
              "      <td>21.89</td>\n",
              "      <td>86.25</td>\n",
              "      <td>0.468771</td>\n",
              "      <td>0.023704</td>\n",
              "      <td>31.872969</td>\n",
              "      <td>78</td>\n",
              "    </tr>\n",
              "  </tbody>\n",
              "</table>\n",
              "</div>\n",
              "      <button class=\"colab-df-convert\" onclick=\"convertToInteractive('df-946a7d83-bfa1-46cc-b04c-e17f31ef6736')\"\n",
              "              title=\"Convert this dataframe to an interactive table.\"\n",
              "              style=\"display:none;\">\n",
              "        \n",
              "  <svg xmlns=\"http://www.w3.org/2000/svg\" height=\"24px\"viewBox=\"0 0 24 24\"\n",
              "       width=\"24px\">\n",
              "    <path d=\"M0 0h24v24H0V0z\" fill=\"none\"/>\n",
              "    <path d=\"M18.56 5.44l.94 2.06.94-2.06 2.06-.94-2.06-.94-.94-2.06-.94 2.06-2.06.94zm-11 1L8.5 8.5l.94-2.06 2.06-.94-2.06-.94L8.5 2.5l-.94 2.06-2.06.94zm10 10l.94 2.06.94-2.06 2.06-.94-2.06-.94-.94-2.06-.94 2.06-2.06.94z\"/><path d=\"M17.41 7.96l-1.37-1.37c-.4-.4-.92-.59-1.43-.59-.52 0-1.04.2-1.43.59L10.3 9.45l-7.72 7.72c-.78.78-.78 2.05 0 2.83L4 21.41c.39.39.9.59 1.41.59.51 0 1.02-.2 1.41-.59l7.78-7.78 2.81-2.81c.8-.78.8-2.07 0-2.86zM5.41 20L4 18.59l7.72-7.72 1.47 1.35L5.41 20z\"/>\n",
              "  </svg>\n",
              "      </button>\n",
              "      \n",
              "  <style>\n",
              "    .colab-df-container {\n",
              "      display:flex;\n",
              "      flex-wrap:wrap;\n",
              "      gap: 12px;\n",
              "    }\n",
              "\n",
              "    .colab-df-convert {\n",
              "      background-color: #E8F0FE;\n",
              "      border: none;\n",
              "      border-radius: 50%;\n",
              "      cursor: pointer;\n",
              "      display: none;\n",
              "      fill: #1967D2;\n",
              "      height: 32px;\n",
              "      padding: 0 0 0 0;\n",
              "      width: 32px;\n",
              "    }\n",
              "\n",
              "    .colab-df-convert:hover {\n",
              "      background-color: #E2EBFA;\n",
              "      box-shadow: 0px 1px 2px rgba(60, 64, 67, 0.3), 0px 1px 3px 1px rgba(60, 64, 67, 0.15);\n",
              "      fill: #174EA6;\n",
              "    }\n",
              "\n",
              "    [theme=dark] .colab-df-convert {\n",
              "      background-color: #3B4455;\n",
              "      fill: #D2E3FC;\n",
              "    }\n",
              "\n",
              "    [theme=dark] .colab-df-convert:hover {\n",
              "      background-color: #434B5C;\n",
              "      box-shadow: 0px 1px 3px 1px rgba(0, 0, 0, 0.15);\n",
              "      filter: drop-shadow(0px 1px 2px rgba(0, 0, 0, 0.3));\n",
              "      fill: #FFFFFF;\n",
              "    }\n",
              "  </style>\n",
              "\n",
              "      <script>\n",
              "        const buttonEl =\n",
              "          document.querySelector('#df-946a7d83-bfa1-46cc-b04c-e17f31ef6736 button.colab-df-convert');\n",
              "        buttonEl.style.display =\n",
              "          google.colab.kernel.accessAllowed ? 'block' : 'none';\n",
              "\n",
              "        async function convertToInteractive(key) {\n",
              "          const element = document.querySelector('#df-946a7d83-bfa1-46cc-b04c-e17f31ef6736');\n",
              "          const dataTable =\n",
              "            await google.colab.kernel.invokeFunction('convertToInteractive',\n",
              "                                                     [key], {});\n",
              "          if (!dataTable) return;\n",
              "\n",
              "          const docLinkHtml = 'Like what you see? Visit the ' +\n",
              "            '<a target=\"_blank\" href=https://colab.research.google.com/notebooks/data_table.ipynb>data table notebook</a>'\n",
              "            + ' to learn more about interactive tables.';\n",
              "          element.innerHTML = '';\n",
              "          dataTable['output_type'] = 'display_data';\n",
              "          await google.colab.output.renderOutput(dataTable, element);\n",
              "          const docLink = document.createElement('div');\n",
              "          docLink.innerHTML = docLinkHtml;\n",
              "          element.appendChild(docLink);\n",
              "        }\n",
              "      </script>\n",
              "    </div>\n",
              "  </div>\n",
              "  "
            ]
          },
          "metadata": {},
          "execution_count": 3
        }
      ],
      "source": [
        "\n",
        "#path = Path().cwd()\n",
        "\n",
        "import pathlib\n",
        "p=pathlib.Path(r'drive/MyDrive/Colab Notebooks/Healthcare Project/')\n",
        "#p = pathlib.Path(r'C:/Users/Dell/Documents/Lab6/')\n",
        "fname =  p / 'final_ML.csv' # None # use p to create a path to the data \n",
        "\n",
        "df = pd.read_csv(fname)\n",
        "\n",
        "# df_train = pd.read_csv(fname)\n",
        "df.head()"
      ]
    },
    {
      "cell_type": "code",
      "source": [
        "from sklearn.impute import SimpleImputer\n",
        "imputer = SimpleImputer(missing_values=np.nan, strategy='mean')\n",
        "imputer = imputer.fit(df[['ACC', 'TEMP', 'HR', 'IBI', 'EDA', 'BVP']])\n",
        "array_mean = imputer.transform(df[['ACC', 'TEMP', 'HR', 'IBI', 'EDA', 'BVP']])"
      ],
      "metadata": {
        "id": "GAK3wzl5YDMz"
      },
      "id": "GAK3wzl5YDMz",
      "execution_count": null,
      "outputs": []
    },
    {
      "cell_type": "code",
      "source": [
        "df_mean = pd.DataFrame(array_mean, columns=['ACC', 'TEMP', 'HR', 'IBI', 'EDA', 'BVP'])\n",
        "df_mean.head()"
      ],
      "metadata": {
        "colab": {
          "base_uri": "https://localhost:8080/",
          "height": 206
        },
        "id": "cpzpY8RnYGZ5",
        "outputId": "a70ad0f6-40a4-4500-e3ba-653ecf5c1dcd"
      },
      "id": "cpzpY8RnYGZ5",
      "execution_count": null,
      "outputs": [
        {
          "output_type": "execute_result",
          "data": {
            "text/plain": [
              "        ACC   TEMP      HR       IBI       EDA        BVP\n",
              "0  65.12875  21.89    1.00  0.468771  0.011852  20.111563\n",
              "1  65.16000  21.89  116.00  0.500023  0.023064 -14.726250\n",
              "2  65.12875  21.91   82.50  0.375017  0.023704 -33.097031\n",
              "3  65.09750  21.91   96.33  0.437520  0.023384  -4.302500\n",
              "4  65.12875  21.89   86.25  0.468771  0.023704  31.872969"
            ],
            "text/html": [
              "\n",
              "  <div id=\"df-90914cf3-2572-4fa2-b9c4-4c7e31f2416b\">\n",
              "    <div class=\"colab-df-container\">\n",
              "      <div>\n",
              "<style scoped>\n",
              "    .dataframe tbody tr th:only-of-type {\n",
              "        vertical-align: middle;\n",
              "    }\n",
              "\n",
              "    .dataframe tbody tr th {\n",
              "        vertical-align: top;\n",
              "    }\n",
              "\n",
              "    .dataframe thead th {\n",
              "        text-align: right;\n",
              "    }\n",
              "</style>\n",
              "<table border=\"1\" class=\"dataframe\">\n",
              "  <thead>\n",
              "    <tr style=\"text-align: right;\">\n",
              "      <th></th>\n",
              "      <th>ACC</th>\n",
              "      <th>TEMP</th>\n",
              "      <th>HR</th>\n",
              "      <th>IBI</th>\n",
              "      <th>EDA</th>\n",
              "      <th>BVP</th>\n",
              "    </tr>\n",
              "  </thead>\n",
              "  <tbody>\n",
              "    <tr>\n",
              "      <th>0</th>\n",
              "      <td>65.12875</td>\n",
              "      <td>21.89</td>\n",
              "      <td>1.00</td>\n",
              "      <td>0.468771</td>\n",
              "      <td>0.011852</td>\n",
              "      <td>20.111563</td>\n",
              "    </tr>\n",
              "    <tr>\n",
              "      <th>1</th>\n",
              "      <td>65.16000</td>\n",
              "      <td>21.89</td>\n",
              "      <td>116.00</td>\n",
              "      <td>0.500023</td>\n",
              "      <td>0.023064</td>\n",
              "      <td>-14.726250</td>\n",
              "    </tr>\n",
              "    <tr>\n",
              "      <th>2</th>\n",
              "      <td>65.12875</td>\n",
              "      <td>21.91</td>\n",
              "      <td>82.50</td>\n",
              "      <td>0.375017</td>\n",
              "      <td>0.023704</td>\n",
              "      <td>-33.097031</td>\n",
              "    </tr>\n",
              "    <tr>\n",
              "      <th>3</th>\n",
              "      <td>65.09750</td>\n",
              "      <td>21.91</td>\n",
              "      <td>96.33</td>\n",
              "      <td>0.437520</td>\n",
              "      <td>0.023384</td>\n",
              "      <td>-4.302500</td>\n",
              "    </tr>\n",
              "    <tr>\n",
              "      <th>4</th>\n",
              "      <td>65.12875</td>\n",
              "      <td>21.89</td>\n",
              "      <td>86.25</td>\n",
              "      <td>0.468771</td>\n",
              "      <td>0.023704</td>\n",
              "      <td>31.872969</td>\n",
              "    </tr>\n",
              "  </tbody>\n",
              "</table>\n",
              "</div>\n",
              "      <button class=\"colab-df-convert\" onclick=\"convertToInteractive('df-90914cf3-2572-4fa2-b9c4-4c7e31f2416b')\"\n",
              "              title=\"Convert this dataframe to an interactive table.\"\n",
              "              style=\"display:none;\">\n",
              "        \n",
              "  <svg xmlns=\"http://www.w3.org/2000/svg\" height=\"24px\"viewBox=\"0 0 24 24\"\n",
              "       width=\"24px\">\n",
              "    <path d=\"M0 0h24v24H0V0z\" fill=\"none\"/>\n",
              "    <path d=\"M18.56 5.44l.94 2.06.94-2.06 2.06-.94-2.06-.94-.94-2.06-.94 2.06-2.06.94zm-11 1L8.5 8.5l.94-2.06 2.06-.94-2.06-.94L8.5 2.5l-.94 2.06-2.06.94zm10 10l.94 2.06.94-2.06 2.06-.94-2.06-.94-.94-2.06-.94 2.06-2.06.94z\"/><path d=\"M17.41 7.96l-1.37-1.37c-.4-.4-.92-.59-1.43-.59-.52 0-1.04.2-1.43.59L10.3 9.45l-7.72 7.72c-.78.78-.78 2.05 0 2.83L4 21.41c.39.39.9.59 1.41.59.51 0 1.02-.2 1.41-.59l7.78-7.78 2.81-2.81c.8-.78.8-2.07 0-2.86zM5.41 20L4 18.59l7.72-7.72 1.47 1.35L5.41 20z\"/>\n",
              "  </svg>\n",
              "      </button>\n",
              "      \n",
              "  <style>\n",
              "    .colab-df-container {\n",
              "      display:flex;\n",
              "      flex-wrap:wrap;\n",
              "      gap: 12px;\n",
              "    }\n",
              "\n",
              "    .colab-df-convert {\n",
              "      background-color: #E8F0FE;\n",
              "      border: none;\n",
              "      border-radius: 50%;\n",
              "      cursor: pointer;\n",
              "      display: none;\n",
              "      fill: #1967D2;\n",
              "      height: 32px;\n",
              "      padding: 0 0 0 0;\n",
              "      width: 32px;\n",
              "    }\n",
              "\n",
              "    .colab-df-convert:hover {\n",
              "      background-color: #E2EBFA;\n",
              "      box-shadow: 0px 1px 2px rgba(60, 64, 67, 0.3), 0px 1px 3px 1px rgba(60, 64, 67, 0.15);\n",
              "      fill: #174EA6;\n",
              "    }\n",
              "\n",
              "    [theme=dark] .colab-df-convert {\n",
              "      background-color: #3B4455;\n",
              "      fill: #D2E3FC;\n",
              "    }\n",
              "\n",
              "    [theme=dark] .colab-df-convert:hover {\n",
              "      background-color: #434B5C;\n",
              "      box-shadow: 0px 1px 3px 1px rgba(0, 0, 0, 0.15);\n",
              "      filter: drop-shadow(0px 1px 2px rgba(0, 0, 0, 0.3));\n",
              "      fill: #FFFFFF;\n",
              "    }\n",
              "  </style>\n",
              "\n",
              "      <script>\n",
              "        const buttonEl =\n",
              "          document.querySelector('#df-90914cf3-2572-4fa2-b9c4-4c7e31f2416b button.colab-df-convert');\n",
              "        buttonEl.style.display =\n",
              "          google.colab.kernel.accessAllowed ? 'block' : 'none';\n",
              "\n",
              "        async function convertToInteractive(key) {\n",
              "          const element = document.querySelector('#df-90914cf3-2572-4fa2-b9c4-4c7e31f2416b');\n",
              "          const dataTable =\n",
              "            await google.colab.kernel.invokeFunction('convertToInteractive',\n",
              "                                                     [key], {});\n",
              "          if (!dataTable) return;\n",
              "\n",
              "          const docLinkHtml = 'Like what you see? Visit the ' +\n",
              "            '<a target=\"_blank\" href=https://colab.research.google.com/notebooks/data_table.ipynb>data table notebook</a>'\n",
              "            + ' to learn more about interactive tables.';\n",
              "          element.innerHTML = '';\n",
              "          dataTable['output_type'] = 'display_data';\n",
              "          await google.colab.output.renderOutput(dataTable, element);\n",
              "          const docLink = document.createElement('div');\n",
              "          docLink.innerHTML = docLinkHtml;\n",
              "          element.appendChild(docLink);\n",
              "        }\n",
              "      </script>\n",
              "    </div>\n",
              "  </div>\n",
              "  "
            ]
          },
          "metadata": {},
          "execution_count": 5
        }
      ]
    },
    {
      "cell_type": "code",
      "source": [
        "df_mean.insert(0, 'Exam', df['Exam'])"
      ],
      "metadata": {
        "id": "feUipWUcZ4kZ"
      },
      "id": "feUipWUcZ4kZ",
      "execution_count": null,
      "outputs": []
    },
    {
      "cell_type": "code",
      "source": [
        "df_mean.insert(1, 'Student', df['Student'])"
      ],
      "metadata": {
        "id": "pcgitT2dcxXy"
      },
      "id": "pcgitT2dcxXy",
      "execution_count": null,
      "outputs": []
    },
    {
      "cell_type": "code",
      "source": [
        "df_mean.insert(8, 'Marks', df['Marks'])"
      ],
      "metadata": {
        "id": "h4j4M6tgh_S3"
      },
      "id": "h4j4M6tgh_S3",
      "execution_count": null,
      "outputs": []
    },
    {
      "cell_type": "code",
      "source": [
        "df_mean.head()"
      ],
      "metadata": {
        "colab": {
          "base_uri": "https://localhost:8080/",
          "height": 206
        },
        "id": "Uy_W1tKjc3Rl",
        "outputId": "ab1a86bd-9512-4422-dc69-68bc5a33201e"
      },
      "id": "Uy_W1tKjc3Rl",
      "execution_count": null,
      "outputs": [
        {
          "output_type": "execute_result",
          "data": {
            "text/plain": [
              "        Exam Student       ACC   TEMP      HR       IBI       EDA        BVP  \\\n",
              "0  Midterm 1      S1  65.12875  21.89    1.00  0.468771  0.011852  20.111563   \n",
              "1  Midterm 1      S1  65.16000  21.89  116.00  0.500023  0.023064 -14.726250   \n",
              "2  Midterm 1      S1  65.12875  21.91   82.50  0.375017  0.023704 -33.097031   \n",
              "3  Midterm 1      S1  65.09750  21.91   96.33  0.437520  0.023384  -4.302500   \n",
              "4  Midterm 1      S1  65.12875  21.89   86.25  0.468771  0.023704  31.872969   \n",
              "\n",
              "   Marks  \n",
              "0     78  \n",
              "1     78  \n",
              "2     78  \n",
              "3     78  \n",
              "4     78  "
            ],
            "text/html": [
              "\n",
              "  <div id=\"df-450f79d6-6406-4fd7-bb62-afae014933f3\">\n",
              "    <div class=\"colab-df-container\">\n",
              "      <div>\n",
              "<style scoped>\n",
              "    .dataframe tbody tr th:only-of-type {\n",
              "        vertical-align: middle;\n",
              "    }\n",
              "\n",
              "    .dataframe tbody tr th {\n",
              "        vertical-align: top;\n",
              "    }\n",
              "\n",
              "    .dataframe thead th {\n",
              "        text-align: right;\n",
              "    }\n",
              "</style>\n",
              "<table border=\"1\" class=\"dataframe\">\n",
              "  <thead>\n",
              "    <tr style=\"text-align: right;\">\n",
              "      <th></th>\n",
              "      <th>Exam</th>\n",
              "      <th>Student</th>\n",
              "      <th>ACC</th>\n",
              "      <th>TEMP</th>\n",
              "      <th>HR</th>\n",
              "      <th>IBI</th>\n",
              "      <th>EDA</th>\n",
              "      <th>BVP</th>\n",
              "      <th>Marks</th>\n",
              "    </tr>\n",
              "  </thead>\n",
              "  <tbody>\n",
              "    <tr>\n",
              "      <th>0</th>\n",
              "      <td>Midterm 1</td>\n",
              "      <td>S1</td>\n",
              "      <td>65.12875</td>\n",
              "      <td>21.89</td>\n",
              "      <td>1.00</td>\n",
              "      <td>0.468771</td>\n",
              "      <td>0.011852</td>\n",
              "      <td>20.111563</td>\n",
              "      <td>78</td>\n",
              "    </tr>\n",
              "    <tr>\n",
              "      <th>1</th>\n",
              "      <td>Midterm 1</td>\n",
              "      <td>S1</td>\n",
              "      <td>65.16000</td>\n",
              "      <td>21.89</td>\n",
              "      <td>116.00</td>\n",
              "      <td>0.500023</td>\n",
              "      <td>0.023064</td>\n",
              "      <td>-14.726250</td>\n",
              "      <td>78</td>\n",
              "    </tr>\n",
              "    <tr>\n",
              "      <th>2</th>\n",
              "      <td>Midterm 1</td>\n",
              "      <td>S1</td>\n",
              "      <td>65.12875</td>\n",
              "      <td>21.91</td>\n",
              "      <td>82.50</td>\n",
              "      <td>0.375017</td>\n",
              "      <td>0.023704</td>\n",
              "      <td>-33.097031</td>\n",
              "      <td>78</td>\n",
              "    </tr>\n",
              "    <tr>\n",
              "      <th>3</th>\n",
              "      <td>Midterm 1</td>\n",
              "      <td>S1</td>\n",
              "      <td>65.09750</td>\n",
              "      <td>21.91</td>\n",
              "      <td>96.33</td>\n",
              "      <td>0.437520</td>\n",
              "      <td>0.023384</td>\n",
              "      <td>-4.302500</td>\n",
              "      <td>78</td>\n",
              "    </tr>\n",
              "    <tr>\n",
              "      <th>4</th>\n",
              "      <td>Midterm 1</td>\n",
              "      <td>S1</td>\n",
              "      <td>65.12875</td>\n",
              "      <td>21.89</td>\n",
              "      <td>86.25</td>\n",
              "      <td>0.468771</td>\n",
              "      <td>0.023704</td>\n",
              "      <td>31.872969</td>\n",
              "      <td>78</td>\n",
              "    </tr>\n",
              "  </tbody>\n",
              "</table>\n",
              "</div>\n",
              "      <button class=\"colab-df-convert\" onclick=\"convertToInteractive('df-450f79d6-6406-4fd7-bb62-afae014933f3')\"\n",
              "              title=\"Convert this dataframe to an interactive table.\"\n",
              "              style=\"display:none;\">\n",
              "        \n",
              "  <svg xmlns=\"http://www.w3.org/2000/svg\" height=\"24px\"viewBox=\"0 0 24 24\"\n",
              "       width=\"24px\">\n",
              "    <path d=\"M0 0h24v24H0V0z\" fill=\"none\"/>\n",
              "    <path d=\"M18.56 5.44l.94 2.06.94-2.06 2.06-.94-2.06-.94-.94-2.06-.94 2.06-2.06.94zm-11 1L8.5 8.5l.94-2.06 2.06-.94-2.06-.94L8.5 2.5l-.94 2.06-2.06.94zm10 10l.94 2.06.94-2.06 2.06-.94-2.06-.94-.94-2.06-.94 2.06-2.06.94z\"/><path d=\"M17.41 7.96l-1.37-1.37c-.4-.4-.92-.59-1.43-.59-.52 0-1.04.2-1.43.59L10.3 9.45l-7.72 7.72c-.78.78-.78 2.05 0 2.83L4 21.41c.39.39.9.59 1.41.59.51 0 1.02-.2 1.41-.59l7.78-7.78 2.81-2.81c.8-.78.8-2.07 0-2.86zM5.41 20L4 18.59l7.72-7.72 1.47 1.35L5.41 20z\"/>\n",
              "  </svg>\n",
              "      </button>\n",
              "      \n",
              "  <style>\n",
              "    .colab-df-container {\n",
              "      display:flex;\n",
              "      flex-wrap:wrap;\n",
              "      gap: 12px;\n",
              "    }\n",
              "\n",
              "    .colab-df-convert {\n",
              "      background-color: #E8F0FE;\n",
              "      border: none;\n",
              "      border-radius: 50%;\n",
              "      cursor: pointer;\n",
              "      display: none;\n",
              "      fill: #1967D2;\n",
              "      height: 32px;\n",
              "      padding: 0 0 0 0;\n",
              "      width: 32px;\n",
              "    }\n",
              "\n",
              "    .colab-df-convert:hover {\n",
              "      background-color: #E2EBFA;\n",
              "      box-shadow: 0px 1px 2px rgba(60, 64, 67, 0.3), 0px 1px 3px 1px rgba(60, 64, 67, 0.15);\n",
              "      fill: #174EA6;\n",
              "    }\n",
              "\n",
              "    [theme=dark] .colab-df-convert {\n",
              "      background-color: #3B4455;\n",
              "      fill: #D2E3FC;\n",
              "    }\n",
              "\n",
              "    [theme=dark] .colab-df-convert:hover {\n",
              "      background-color: #434B5C;\n",
              "      box-shadow: 0px 1px 3px 1px rgba(0, 0, 0, 0.15);\n",
              "      filter: drop-shadow(0px 1px 2px rgba(0, 0, 0, 0.3));\n",
              "      fill: #FFFFFF;\n",
              "    }\n",
              "  </style>\n",
              "\n",
              "      <script>\n",
              "        const buttonEl =\n",
              "          document.querySelector('#df-450f79d6-6406-4fd7-bb62-afae014933f3 button.colab-df-convert');\n",
              "        buttonEl.style.display =\n",
              "          google.colab.kernel.accessAllowed ? 'block' : 'none';\n",
              "\n",
              "        async function convertToInteractive(key) {\n",
              "          const element = document.querySelector('#df-450f79d6-6406-4fd7-bb62-afae014933f3');\n",
              "          const dataTable =\n",
              "            await google.colab.kernel.invokeFunction('convertToInteractive',\n",
              "                                                     [key], {});\n",
              "          if (!dataTable) return;\n",
              "\n",
              "          const docLinkHtml = 'Like what you see? Visit the ' +\n",
              "            '<a target=\"_blank\" href=https://colab.research.google.com/notebooks/data_table.ipynb>data table notebook</a>'\n",
              "            + ' to learn more about interactive tables.';\n",
              "          element.innerHTML = '';\n",
              "          dataTable['output_type'] = 'display_data';\n",
              "          await google.colab.output.renderOutput(dataTable, element);\n",
              "          const docLink = document.createElement('div');\n",
              "          docLink.innerHTML = docLinkHtml;\n",
              "          element.appendChild(docLink);\n",
              "        }\n",
              "      </script>\n",
              "    </div>\n",
              "  </div>\n",
              "  "
            ]
          },
          "metadata": {},
          "execution_count": 9
        }
      ]
    },
    {
      "cell_type": "code",
      "source": [
        "df = df_mean"
      ],
      "metadata": {
        "id": "AbA6K_tpc7bf"
      },
      "id": "AbA6K_tpc7bf",
      "execution_count": null,
      "outputs": []
    },
    {
      "cell_type": "code",
      "execution_count": null,
      "id": "c17f1c85",
      "metadata": {
        "id": "c17f1c85",
        "colab": {
          "base_uri": "https://localhost:8080/"
        },
        "outputId": "9e62ce32-e989-4d75-e8a0-a0df56195a7d"
      },
      "outputs": [
        {
          "output_type": "stream",
          "name": "stdout",
          "text": [
            "(204464, 9)\n",
            "(204464, 9)\n",
            "(204464, 9)\n"
          ]
        }
      ],
      "source": [
        "#Midterm 1 Dataframe\n",
        "mid1_df = df[df['Exam'] == 'Midterm 1']\n",
        "print(mid1_df.shape)\n",
        "#Midterm 2 Dataframe\n",
        "mid2_df = df[df['Exam'] == 'Midterm 2']\n",
        "print(mid2_df.shape)\n",
        "# Final Exam Dataframe\n",
        "final_exam_df = df[df['Exam'] == 'Final']\n",
        "print(final_exam_df.shape)"
      ]
    },
    {
      "cell_type": "code",
      "execution_count": null,
      "id": "f883e2fd",
      "metadata": {
        "colab": {
          "base_uri": "https://localhost:8080/"
        },
        "id": "f883e2fd",
        "outputId": "8f1e16ec-3ae0-4abe-b94c-75430884fecb"
      },
      "outputs": [
        {
          "output_type": "execute_result",
          "data": {
            "text/plain": [
              "Index(['Exam', 'Student', 'ACC', 'TEMP', 'HR', 'IBI', 'EDA', 'BVP', 'Marks'], dtype='object')"
            ]
          },
          "metadata": {},
          "execution_count": 12
        }
      ],
      "source": [
        "df.columns"
      ]
    },
    {
      "cell_type": "code",
      "source": [
        "df.isnull().sum()"
      ],
      "metadata": {
        "colab": {
          "base_uri": "https://localhost:8080/"
        },
        "id": "3WOAEEfaW-qC",
        "outputId": "78e59bd9-638e-4a3d-8685-3d5005e957d8"
      },
      "id": "3WOAEEfaW-qC",
      "execution_count": null,
      "outputs": [
        {
          "output_type": "execute_result",
          "data": {
            "text/plain": [
              "Exam       0\n",
              "Student    0\n",
              "ACC        0\n",
              "TEMP       0\n",
              "HR         0\n",
              "IBI        0\n",
              "EDA        0\n",
              "BVP        0\n",
              "Marks      0\n",
              "dtype: int64"
            ]
          },
          "metadata": {},
          "execution_count": 13
        }
      ]
    },
    {
      "cell_type": "code",
      "source": [],
      "metadata": {
        "id": "WmAfwk7mXOoY"
      },
      "id": "WmAfwk7mXOoY",
      "execution_count": null,
      "outputs": []
    },
    {
      "cell_type": "code",
      "execution_count": null,
      "id": "4d6109fa",
      "metadata": {
        "id": "4d6109fa"
      },
      "outputs": [],
      "source": [
        "# df.fillna(df.mean(), inplace=True)"
      ]
    },
    {
      "cell_type": "code",
      "source": [
        "X_mid1 = mid1_df[['ACC', 'TEMP', 'HR', 'IBI','EDA','BVP']]\n",
        "y_mid1 = mid1_df['Marks']"
      ],
      "metadata": {
        "id": "ngChWXMqN36b"
      },
      "id": "ngChWXMqN36b",
      "execution_count": null,
      "outputs": []
    },
    {
      "cell_type": "code",
      "source": [
        "X_mid2 = mid2_df[['ACC', 'TEMP', 'HR', 'IBI','EDA','BVP']]\n",
        "y_mid2 = mid2_df['Marks']"
      ],
      "metadata": {
        "id": "lbpxmYw7Pix9"
      },
      "id": "lbpxmYw7Pix9",
      "execution_count": null,
      "outputs": []
    },
    {
      "cell_type": "code",
      "source": [
        "X_final_exam = final_exam_df[['ACC', 'TEMP', 'HR', 'IBI','EDA','BVP']]\n",
        "y_final_exam = final_exam_df['Marks']"
      ],
      "metadata": {
        "id": "OipKT5pfdxXZ"
      },
      "id": "OipKT5pfdxXZ",
      "execution_count": null,
      "outputs": []
    },
    {
      "cell_type": "code",
      "source": [
        "print(X_final_exam.shape)\n",
        "print(y_final_exam.shape)"
      ],
      "metadata": {
        "colab": {
          "base_uri": "https://localhost:8080/"
        },
        "id": "c9ltWVu-w7BZ",
        "outputId": "48cf1923-ca48-4ce3-a165-8b0cb96842e6"
      },
      "id": "c9ltWVu-w7BZ",
      "execution_count": null,
      "outputs": [
        {
          "output_type": "stream",
          "name": "stdout",
          "text": [
            "(204464, 6)\n",
            "(204464,)\n"
          ]
        }
      ]
    },
    {
      "cell_type": "code",
      "execution_count": null,
      "id": "2310717c",
      "metadata": {
        "id": "2310717c"
      },
      "outputs": [],
      "source": [
        "# X = df[['ACC', 'TEMP', 'HR', 'IBI','EDA','BVP']]\n",
        "# y = df['Marks']"
      ]
    },
    {
      "cell_type": "code",
      "source": [
        "X_mid1_train, X_mid1_test, y_mid1_train, y_mid1_test = train_test_split(X_mid1, y_mid1, test_size=0.2)\n",
        "X_mid2_train, X_mid2_test, y_mid2_train, y_mid2_test = train_test_split(X_mid2, y_mid2, test_size=0.2)\n",
        "X_final_exam_train, X_final_exam_test, y_final_exam_train, y_final_exam_test = train_test_split(X_final_exam, y_final_exam, test_size=0.2)"
      ],
      "metadata": {
        "id": "NICxRM57-POz"
      },
      "id": "NICxRM57-POz",
      "execution_count": null,
      "outputs": []
    },
    {
      "cell_type": "code",
      "execution_count": null,
      "id": "972c7506",
      "metadata": {
        "id": "972c7506",
        "colab": {
          "base_uri": "https://localhost:8080/"
        },
        "outputId": "415601b7-236d-4663-e306-c25e44958df7"
      },
      "outputs": [
        {
          "output_type": "stream",
          "name": "stdout",
          "text": [
            "(163571, 6)\n",
            "(40893, 6)\n",
            "(163571,)\n",
            "(40893,)\n"
          ]
        }
      ],
      "source": [
        "print(X_final_exam_train.shape)\n",
        "print(X_final_exam_test.shape)\n",
        "print(y_final_exam_train.shape)\n",
        "print(y_final_exam_test.shape)"
      ]
    },
    {
      "cell_type": "code",
      "execution_count": null,
      "id": "070d9922",
      "metadata": {
        "id": "070d9922"
      },
      "outputs": [],
      "source": [
        "rf_mid1 = RandomForestClassifier(n_estimators=50)\n",
        "rf_mid2 = RandomForestClassifier(n_estimators=50)\n",
        "rf_final_exam = RandomForestClassifier(n_estimators=50)"
      ]
    },
    {
      "cell_type": "code",
      "execution_count": null,
      "id": "a3df7c19",
      "metadata": {
        "colab": {
          "base_uri": "https://localhost:8080/"
        },
        "id": "a3df7c19",
        "outputId": "bb362d07-93e9-4327-94fa-b3e6fe702f29"
      },
      "outputs": [
        {
          "output_type": "execute_result",
          "data": {
            "text/plain": [
              "RandomForestClassifier(n_estimators=50)"
            ]
          },
          "metadata": {},
          "execution_count": 23
        }
      ],
      "source": [
        "rf_mid1.fit(X_mid1_train, y_mid1_train)\n",
        "rf_mid2.fit(X_mid2_train, y_mid2_train)\n",
        "rf_final_exam.fit(X_final_exam_train, y_final_exam_train)"
      ]
    },
    {
      "cell_type": "code",
      "execution_count": null,
      "id": "b15d2361",
      "metadata": {
        "id": "b15d2361"
      },
      "outputs": [],
      "source": [
        "validation_predictions_mid1 = rf_mid1.predict(X_mid1_test)\n",
        "validation_predictions_mid2 = rf_mid2.predict(X_mid2_test)\n",
        "validation_predictions_final_exam = rf_final_exam.predict(X_final_exam_test)"
      ]
    },
    {
      "cell_type": "code",
      "execution_count": null,
      "id": "86cdd5a2",
      "metadata": {
        "colab": {
          "base_uri": "https://localhost:8080/"
        },
        "id": "86cdd5a2",
        "outputId": "cbd824fb-46c7-4a50-cf21-88a852b702a6"
      },
      "outputs": [
        {
          "output_type": "stream",
          "name": "stdout",
          "text": [
            "97.42% correct for Midterm 1\n",
            "97.50% correct for Midterm 2\n",
            "97.51% correct for Final Exam\n"
          ]
        }
      ],
      "source": [
        "validation_e_mid1 = accuracy_score(y_mid1_test, validation_predictions_mid1)\n",
        "validation_e_mid2 = accuracy_score(y_mid2_test, validation_predictions_mid2)\n",
        "validation_e_final_exam = accuracy_score(y_final_exam_test, validation_predictions_final_exam)\n",
        "\n",
        "\n",
        "print(f\"{validation_e_mid1*100:.2f}% correct for Midterm 1\")\n",
        "print(f\"{validation_e_mid2*100:.2f}% correct for Midterm 2\")\n",
        "print(f\"{validation_e_final_exam*100:.2f}% correct for Final Exam\")"
      ]
    },
    {
      "cell_type": "code",
      "source": [
        "#Applying Decission Tree Classifier\n",
        "from sklearn.tree import DecisionTreeClassifier\n",
        "model_mid1_dtc = DecisionTreeClassifier(max_depth=5)\n",
        "model_mid2_dtc = DecisionTreeClassifier(max_depth=5)\n",
        "model_final_dtc = DecisionTreeClassifier(max_depth=5)\n",
        "model_mid1_dtc.fit(X_mid1_train, y_mid1_train)\n",
        "model_mid2_dtc.fit(X_mid2_train, y_mid2_train)\n",
        "model_final_dtc.fit(X_final_exam_train, y_final_exam_train)"
      ],
      "metadata": {
        "colab": {
          "base_uri": "https://localhost:8080/"
        },
        "id": "DgHEQDFlFnK1",
        "outputId": "3c35e41c-1af8-462e-8e3e-2d1fdd2fcbd6"
      },
      "id": "DgHEQDFlFnK1",
      "execution_count": null,
      "outputs": [
        {
          "output_type": "execute_result",
          "data": {
            "text/plain": [
              "DecisionTreeClassifier(max_depth=5)"
            ]
          },
          "metadata": {},
          "execution_count": 26
        }
      ]
    },
    {
      "cell_type": "code",
      "source": [
        "mid1_dtc_score=model_mid1_dtc.score(X_mid1_train, y_mid1_train)\n",
        "mid2_dtc_score=model_mid2_dtc.score(X_mid2_train, y_mid2_train)\n",
        "final_dtc_score=model_final_dtc.score(X_final_exam_train, y_final_exam_train)\n",
        "\n",
        "print(f\"{mid1_dtc_score*100:.2f}% correct for Midterm 1\")\n",
        "print(f\"{mid2_dtc_score*100:.2f}% correct for Midterm 2\")\n",
        "print(f\"{final_dtc_score*100:.2f}% correct for Final Exam\")"
      ],
      "metadata": {
        "colab": {
          "base_uri": "https://localhost:8080/"
        },
        "id": "pXLn6MgUUEel",
        "outputId": "5d961721-4729-494a-c261-5a961415dee9"
      },
      "id": "pXLn6MgUUEel",
      "execution_count": null,
      "outputs": [
        {
          "output_type": "stream",
          "name": "stdout",
          "text": [
            "68.18% correct for Midterm 1\n",
            "64.66% correct for Midterm 2\n",
            "68.07% correct for Final Exam\n"
          ]
        }
      ]
    },
    {
      "cell_type": "code",
      "source": [
        "validation_predictions_mid1_dtc = model_mid1_dtc.predict(X_mid1_test)\n",
        "validation_predictions_mid2_dtc = model_mid2_dtc.predict(X_mid2_test)\n",
        "validation_predictions_final_exam_dtc = model_final_dtc.predict(X_final_exam_test)"
      ],
      "metadata": {
        "id": "r5-8PTGuS0TI"
      },
      "id": "r5-8PTGuS0TI",
      "execution_count": null,
      "outputs": []
    },
    {
      "cell_type": "code",
      "source": [
        "validation_e_mid1_dtc = accuracy_score(y_mid1_test, validation_predictions_mid1_dtc)\n",
        "validation_e_mid2_dtc = accuracy_score(y_mid2_test, validation_predictions_mid2_dtc)\n",
        "validation_e_final_exam_dtc = accuracy_score(y_final_exam_test, validation_predictions_final_exam_dtc)\n",
        "\n",
        "print(f\"{validation_e_mid1_dtc*100:.2f}% correct for Midterm 1\")\n",
        "print(f\"{validation_e_mid2_dtc*100:.2f}% correct for Midterm 2\")\n",
        "print(f\"{validation_e_final_exam_dtc*100:.2f}% correct for Final Exam\")"
      ],
      "metadata": {
        "colab": {
          "base_uri": "https://localhost:8080/"
        },
        "id": "Bv0tt4SWTHzU",
        "outputId": "70d6a9d1-c91c-4398-e9fc-d7df0392153b"
      },
      "id": "Bv0tt4SWTHzU",
      "execution_count": null,
      "outputs": [
        {
          "output_type": "stream",
          "name": "stdout",
          "text": [
            "68.17% correct for Midterm 1\n",
            "64.88% correct for Midterm 2\n",
            "68.51% correct for Final Exam\n"
          ]
        }
      ]
    },
    {
      "cell_type": "code",
      "source": [
        "from xgboost import XGBClassifier\n",
        "model = XGBClassifier(use_label_encoder=False, eval_metric='mlogloss')\n",
        "\n",
        "model_xgbc_mid1 = XGBClassifier(use_label_encoder=False, eval_metric='mlogloss')\n",
        "model_xgbc_mid2 = XGBClassifier(use_label_encoder=False, eval_metric='mlogloss')\n",
        "model_xgbc_final = XGBClassifier(use_label_encoder=False, eval_metric='mlogloss')\n",
        "model_xgbc_mid1.fit(X_mid1_train, y_mid1_train)\n",
        "model_xgbc_mid2.fit(X_mid2_train, y_mid2_train)\n",
        "model_xgbc_final.fit(X_final_exam_train, y_final_exam_train)"
      ],
      "metadata": {
        "colab": {
          "base_uri": "https://localhost:8080/"
        },
        "id": "2ORWaMKMOImF",
        "outputId": "0de50c86-905b-4561-f886-bfb732fa2a2d"
      },
      "id": "2ORWaMKMOImF",
      "execution_count": null,
      "outputs": [
        {
          "output_type": "execute_result",
          "data": {
            "text/plain": [
              "XGBClassifier(eval_metric='mlogloss', objective='multi:softprob',\n",
              "              use_label_encoder=False)"
            ]
          },
          "metadata": {},
          "execution_count": 30
        }
      ]
    },
    {
      "cell_type": "code",
      "source": [
        "mid1_xgbc_score=model_xgbc_mid1.score(X_mid1_train, y_mid1_train)\n",
        "mid2_xgbc_score=model_xgbc_mid2.score(X_mid2_train, y_mid2_train)\n",
        "final_xgbc_score=model_xgbc_final.score(X_final_exam_train, y_final_exam_train)\n",
        "\n",
        "print(f\"{mid1_xgbc_score*100:.2f}% correct for Midterm 1\")\n",
        "print(f\"{mid2_xgbc_score*100:.2f}% correct for Midterm 2\")\n",
        "print(f\"{final_xgbc_score*100:.2f}% correct for Final Exam\")"
      ],
      "metadata": {
        "colab": {
          "base_uri": "https://localhost:8080/"
        },
        "id": "vqP2LSTxSuA7",
        "outputId": "9fa3d9a2-71e3-4767-89de-16e7b01303f6"
      },
      "id": "vqP2LSTxSuA7",
      "execution_count": null,
      "outputs": [
        {
          "output_type": "stream",
          "name": "stdout",
          "text": [
            "85.90% correct for Midterm 1\n",
            "85.30% correct for Midterm 2\n",
            "85.88% correct for Final Exam\n"
          ]
        }
      ]
    },
    {
      "cell_type": "code",
      "source": [
        "print(model_xgbc_mid1.score(X_mid1_train, y_mid1_train))\n",
        "print(model_xgbc_mid2.score(X_mid2_train, y_mid2_train))\n",
        "print(model_xgbc_final.score(X_final_exam_train, y_final_exam_train))"
      ],
      "metadata": {
        "id": "xbUoZW_6oSZQ",
        "colab": {
          "base_uri": "https://localhost:8080/"
        },
        "outputId": "a38de280-bf96-4475-d65c-1d8c7ba57a8c"
      },
      "id": "xbUoZW_6oSZQ",
      "execution_count": null,
      "outputs": [
        {
          "output_type": "stream",
          "name": "stdout",
          "text": [
            "0.8590275782381963\n",
            "0.8529690470804727\n",
            "0.8587952632190302\n"
          ]
        }
      ]
    },
    {
      "cell_type": "code",
      "source": [
        "validation_predictions_mid1_xgbc = model_xgbc_mid1.predict(X_mid1_test)\n",
        "validation_predictions_mid2_xgbc = model_xgbc_mid2.predict(X_mid2_test)\n",
        "validation_predictions_final_exam_xgbc = model_xgbc_final.predict(X_final_exam_test)"
      ],
      "metadata": {
        "id": "m9K4cu6wUYDf"
      },
      "id": "m9K4cu6wUYDf",
      "execution_count": null,
      "outputs": []
    },
    {
      "cell_type": "code",
      "source": [
        "validation_e_mid1_xgbc = accuracy_score(y_mid1_test, validation_predictions_mid1_xgbc)\n",
        "validation_e_mid2_xgbc = accuracy_score(y_mid2_test, validation_predictions_mid2_xgbc)\n",
        "validation_e_final_exam_xgbc = accuracy_score(y_final_exam_test, validation_predictions_final_exam_xgbc)\n",
        "\n",
        "print(f\"{validation_e_mid1_xgbc*100:.2f}% correct for Midterm 1\")\n",
        "print(f\"{validation_e_mid2_xgbc*100:.2f}% correct for Midterm 2\")\n",
        "print(f\"{validation_e_final_exam_xgbc*100:.2f}% correct for Final Exam\")"
      ],
      "metadata": {
        "colab": {
          "base_uri": "https://localhost:8080/"
        },
        "id": "XXf5MvbZUkVy",
        "outputId": "266020d4-593b-42c1-cc5d-c36df4c633f0"
      },
      "id": "XXf5MvbZUkVy",
      "execution_count": null,
      "outputs": [
        {
          "output_type": "stream",
          "name": "stdout",
          "text": [
            "85.55% correct for Midterm 1\n",
            "85.11% correct for Midterm 2\n",
            "85.91% correct for Final Exam\n"
          ]
        }
      ]
    },
    {
      "cell_type": "code",
      "source": [
        "#Applying K-NN\n",
        "from sklearn.neighbors import KNeighborsClassifier\n",
        "model6_knn_mid1 = KNeighborsClassifier(n_neighbors=7,\n",
        "                             metric='minkowski',\n",
        "                             p = 2)\n",
        "model6_knn_mid2 = KNeighborsClassifier(n_neighbors=7,\n",
        "                             metric='minkowski',\n",
        "                             p = 2)\n",
        "model6_knn_final = KNeighborsClassifier(n_neighbors=7,\n",
        "                             metric='minkowski',\n",
        "                             p = 2)\n",
        "model6_knn_mid1.fit(X_mid1_train, y_mid1_train)\n",
        "model6_knn_mid2.fit(X_mid2_train, y_mid2_train)\n",
        "model6_knn_final.fit(X_final_exam_train, y_final_exam_train)"
      ],
      "metadata": {
        "colab": {
          "base_uri": "https://localhost:8080/"
        },
        "id": "2hKnMPftpa5d",
        "outputId": "222e7bd9-450e-41e7-c5c6-71fdd99eeac3"
      },
      "id": "2hKnMPftpa5d",
      "execution_count": null,
      "outputs": [
        {
          "output_type": "execute_result",
          "data": {
            "text/plain": [
              "KNeighborsClassifier(n_neighbors=7)"
            ]
          },
          "metadata": {},
          "execution_count": 35
        }
      ]
    },
    {
      "cell_type": "code",
      "source": [
        "mid1_knn_score=model6_knn_mid1.score(X_mid1_train, y_mid1_train)\n",
        "mid2_knn_score=model6_knn_mid2.score(X_mid2_train, y_mid2_train)\n",
        "final_knn_score=model6_knn_final.score(X_final_exam_train, y_final_exam_train)\n",
        "\n",
        "print(f\"{mid1_knn_score*100:.2f}% correct for Midterm 1\")\n",
        "print(f\"{mid2_knn_score*100:.2f}% correct for Midterm 2\")\n",
        "print(f\"{final_knn_score*100:.2f}% correct for Final Exam\")"
      ],
      "metadata": {
        "colab": {
          "base_uri": "https://localhost:8080/"
        },
        "id": "eShGg-DAUvVq",
        "outputId": "ddabfe26-d4d8-4de7-e93a-f97622a0ddaf"
      },
      "id": "eShGg-DAUvVq",
      "execution_count": null,
      "outputs": [
        {
          "output_type": "stream",
          "name": "stdout",
          "text": [
            "74.81% correct for Midterm 1\n",
            "75.75% correct for Midterm 2\n",
            "74.82% correct for Final Exam\n"
          ]
        }
      ]
    },
    {
      "cell_type": "code",
      "source": [
        "validation_predictions_mid1_knn = model6_knn_mid1.predict(X_mid1_test)\n",
        "validation_predictions_mid2_knn = model6_knn_mid2.predict(X_mid2_test)\n",
        "validation_predictions_final_exam_knn = model6_knn_final.predict(X_final_exam_test)"
      ],
      "metadata": {
        "id": "4-DzWP-6VDdO"
      },
      "id": "4-DzWP-6VDdO",
      "execution_count": null,
      "outputs": []
    },
    {
      "cell_type": "code",
      "source": [
        "validation_e_mid1_knn = accuracy_score(y_mid1_test, validation_predictions_mid1_knn)\n",
        "validation_e_mid2_knn = accuracy_score(y_mid2_test, validation_predictions_mid2_knn)\n",
        "validation_e_final_exam_knn = accuracy_score(y_final_exam_test, validation_predictions_final_exam_knn)\n",
        "\n",
        "print(f\"{validation_e_mid1_knn*100:.2f}% correct for Midterm 1\")\n",
        "print(f\"{validation_e_mid2_knn*100:.2f}% correct for Midterm 2\")\n",
        "print(f\"{validation_e_final_exam_knn*100:.2f}% correct for Final Exam\")"
      ],
      "metadata": {
        "colab": {
          "base_uri": "https://localhost:8080/"
        },
        "id": "ILnvjqkDVLSp",
        "outputId": "f3f67f0d-a132-40ed-adf0-c9b3a4332bb0"
      },
      "id": "ILnvjqkDVLSp",
      "execution_count": null,
      "outputs": [
        {
          "output_type": "stream",
          "name": "stdout",
          "text": [
            "66.79% correct for Midterm 1\n",
            "67.91% correct for Midterm 2\n",
            "66.38% correct for Final Exam\n"
          ]
        }
      ]
    },
    {
      "cell_type": "code",
      "source": [
        "df_mid1 = pd.DataFrame({'Model':['RandomForest Classifier', 'DecisionTree Classifier', 'XGBClassifier','KNeighborsClassifier'], 'val':[validation_e_mid1, validation_e_mid1_dtc, validation_e_mid1_xgbc,validation_e_mid1_knn]})\n",
        "from matplotlib import pyplot as plt\n",
        "df_mid1.plot(x='Model', y='val', kind=\"bar\")\n",
        "plt.title(\"Mid1 Accuracy for different Models\")\n",
        "plt.xlabel(\"Model\")\n",
        "plt.ylabel(\"Accuracy\")"
      ],
      "metadata": {
        "colab": {
          "base_uri": "https://localhost:8080/",
          "height": 423
        },
        "id": "msK1Btv-NQn3",
        "outputId": "295b9b86-9997-45b1-96dd-76632caa2833"
      },
      "id": "msK1Btv-NQn3",
      "execution_count": null,
      "outputs": [
        {
          "output_type": "execute_result",
          "data": {
            "text/plain": [
              "Text(0, 0.5, 'Accuracy')"
            ]
          },
          "metadata": {},
          "execution_count": 44
        },
        {
          "output_type": "display_data",
          "data": {
            "text/plain": [
              "<Figure size 432x288 with 1 Axes>"
            ],
            "image/png": "[encoded data removed]"
          },
          "metadata": {
            "needs_background": "light"
          }
        }
      ]
    },
    {
      "cell_type": "code",
      "source": [
        "df_mid2 = pd.DataFrame({'Model':['RandomForest Classifier', 'DecisionTree Classifier', 'XGBClassifier','KNeighborsClassifier'], 'val':[validation_e_mid2, validation_e_mid2_dtc, validation_e_mid2_xgbc,validation_e_mid2_knn]})\n",
        "from matplotlib import pyplot as plt\n",
        "df_mid2.plot(x='Model', y='val', kind=\"bar\")\n",
        "plt.title(\"Mid2 Accuracy for different Models\")\n",
        "plt.xlabel(\"Model\")\n",
        "plt.ylabel(\"Accuracy\")"
      ],
      "metadata": {
        "colab": {
          "base_uri": "https://localhost:8080/",
          "height": 423
        },
        "id": "g-pTrNx2NkFW",
        "outputId": "2be7da98-099b-46a9-f289-7969887412a1"
      },
      "id": "g-pTrNx2NkFW",
      "execution_count": null,
      "outputs": [
        {
          "output_type": "execute_result",
          "data": {
            "text/plain": [
              "Text(0, 0.5, 'Accuracy')"
            ]
          },
          "metadata": {},
          "execution_count": 45
        },
        {
          "output_type": "display_data",
          "data": {
            "text/plain": [
              "<Figure size 432x288 with 1 Axes>"
            ],
            "image/png": "[encoded data removed]"
          },
          "metadata": {
            "needs_background": "light"
          }
        }
      ]
    },
    {
      "cell_type": "code",
      "source": [
        "df_final = pd.DataFrame({'Model':['RandomForest Classifier', 'DecisionTree Classifier', 'XGBClassifier','KNeighborsClassifier'], 'val':[validation_e_final_exam, validation_e_final_exam_dtc, validation_e_final_exam_xgbc,validation_e_final_exam_knn]})\n",
        "from matplotlib import pyplot as plt\n",
        "df_final.plot(x='Model', y='val', kind=\"bar\")\n",
        "plt.title(\"Final Accuracy for different Models\")\n",
        "plt.xlabel(\"Model\")\n",
        "plt.ylabel(\"Accuracy\")"
      ],
      "metadata": {
        "colab": {
          "base_uri": "https://localhost:8080/",
          "height": 423
        },
        "id": "asNokglvNkbD",
        "outputId": "3834acab-7960-4e23-e6e8-ed071fe061d7"
      },
      "id": "asNokglvNkbD",
      "execution_count": null,
      "outputs": [
        {
          "output_type": "execute_result",
          "data": {
            "text/plain": [
              "Text(0, 0.5, 'Accuracy')"
            ]
          },
          "metadata": {},
          "execution_count": 46
        },
        {
          "output_type": "display_data",
          "data": {
            "text/plain": [
              "<Figure size 432x288 with 1 Axes>"
            ],
            "image/png": "[encoded data removed]"
          },
          "metadata": {
            "needs_background": "light"
          }
        }
      ]
    }
  ],
  "metadata": {
    "kernelspec": {
      "display_name": "Python 3 (ipykernel)",
      "language": "python",
      "name": "python3"
    },
    "language_info": {
      "codemirror_mode": {
        "name": "ipython",
        "version": 3
      },
      "file_extension": ".py",
      "mimetype": "text/x-python",
      "name": "python",
      "nbconvert_exporter": "python",
      "pygments_lexer": "ipython3",
      "version": "3.9.13"
    },
    "colab": {
      "provenance": []
    },
    "gpuClass": "standard"
  },
  "nbformat": 4,
  "nbformat_minor": 5
}